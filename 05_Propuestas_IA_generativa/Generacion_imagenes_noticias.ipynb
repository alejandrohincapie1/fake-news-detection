{
 "cells": [
  {
   "cell_type": "code",
   "execution_count": 11,
   "metadata": {},
   "outputs": [],
   "source": [
    "\n",
    "import pandas as pd\n",
    "import sys\n",
    "import os\n",
    "from openai import OpenAI\n",
    "from dotenv import load_dotenv"
   ]
  },
  {
   "cell_type": "code",
   "execution_count": 13,
   "metadata": {},
   "outputs": [],
   "source": [
    "data = pd.read_csv('../data/csv/df_contenidos.csv', encoding='utf-8') # Leemos el arcivos CSV con nuestro df_contenidos"
   ]
  },
  {
   "cell_type": "code",
   "execution_count": 15,
   "metadata": {},
   "outputs": [],
   "source": [
    "data = data.iloc[[6024]] # Elegimos una noticia"
   ]
  },
  {
   "cell_type": "code",
   "execution_count": 17,
   "metadata": {},
   "outputs": [
    {
     "data": {
      "text/plain": [
       "'Why Sen. Mitch McConnell won’t budge on the Supreme Court nomination'"
      ]
     },
     "execution_count": 17,
     "metadata": {},
     "output_type": "execute_result"
    }
   ],
   "source": [
    "data.iloc[0,1]"
   ]
  },
  {
   "cell_type": "code",
   "execution_count": 19,
   "metadata": {},
   "outputs": [],
   "source": [
    "# cargamos las variables del archivo .env\n",
    "load_dotenv()\n",
    "\n",
    "\n",
    "\n",
    "# iniciamos el cliente de OpenAI con la clave Api que tenemos en el archivo .env\n",
    "client = OpenAI(api_key=os.getenv(\"OPENAI_API_KEY\"))\n",
    "\n",
    "# Definimos una funcion que nos lea el titulo de la noticia y nos genere una imagen\n",
    "def generar_imagen(texto):\n",
    "    texto = f\"Genera una imagen que represente la noticia: {texto}.Tiene que se una imagen que llame la atencion y sea atractiva para el usuario.la imagen tiene que ser de una sola persona, en un fondo blanco y con un estilo de ilustracion digital.\"\n",
    "    try:\n",
    "        response = client.images.generate(\n",
    "            model=\"dall-e-3\",  \n",
    "            prompt=texto,\n",
    "            size=\"1024x1024\",\n",
    "            quality=\"standard\",\n",
    "            n=1\n",
    "        )\n",
    "        return response.data[0].url\n",
    "    except Exception as e:\n",
    "        print(\"Error generando imagen:\", e)\n",
    "        return None\n",
    "\n",
    "data['imagen_url'] = data['titulo'].apply(generar_imagen)"
   ]
  },
  {
   "cell_type": "code",
   "execution_count": 20,
   "metadata": {},
   "outputs": [
    {
     "data": {
      "text/html": [
       "<img src=\"https://oaidalleapiprodscus.blob.core.windows.net/private/org-NpQ81NJOg5H70I7yRfdmc5HW/user-NdwL7AJYepdlcvcs9FlwtaH0/img-TR1LSrnbIsKbbSkyit5mhvQX.png?st=2025-09-15T17%3A17%3A26Z&se=2025-09-15T19%3A17%3A26Z&sp=r&sv=2024-08-04&sr=b&rscd=inline&rsct=image/png&skoid=c6569cb0-0faa-463d-9694-97df3dc1dfb1&sktid=a48cca56-e6da-484e-a814-9c849652bcb3&skt=2025-09-15T17%3A11%3A06Z&ske=2025-09-16T17%3A11%3A06Z&sks=b&skv=2024-08-04&sig=%2BQx0N8L/dYDWFP7XnsHBcfvrYFF4wi4g%2BibAzg%2B0NT8%3D\"/>"
      ],
      "text/plain": [
       "<IPython.core.display.Image object>"
      ]
     },
     "metadata": {},
     "output_type": "display_data"
    }
   ],
   "source": [
    "url = data.iloc[0,3] \n",
    "display(Image(url=url))"
   ]
  },
  {
   "cell_type": "code",
   "execution_count": null,
   "metadata": {},
   "outputs": [],
   "source": []
  }
 ],
 "metadata": {
  "kernelspec": {
   "display_name": "Python 3 (ipykernel)",
   "language": "python",
   "name": "python3"
  },
  "language_info": {
   "codemirror_mode": {
    "name": "ipython",
    "version": 3
   },
   "file_extension": ".py",
   "mimetype": "text/x-python",
   "name": "python",
   "nbconvert_exporter": "python",
   "pygments_lexer": "ipython3",
   "version": "3.12.7"
  }
 },
 "nbformat": 4,
 "nbformat_minor": 4
}
