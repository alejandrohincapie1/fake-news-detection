{
 "cells": [
  {
   "cell_type": "markdown",
   "metadata": {
    "id": "wLDJRmNoL-bA"
   },
   "source": [
    "#**Generación de imagenes de noticias**"
   ]
  },
  {
   "cell_type": "markdown",
   "metadata": {
    "id": "1MhiMdk9MPq3"
   },
   "source": [
    "Instalamos las librerias necesarias"
   ]
  },
  {
   "cell_type": "code",
   "execution_count": null,
   "metadata": {
    "id": "ikWjLd85uknz"
   },
   "outputs": [],
   "source": [
    "!pip install diffusers\n",
    "!pip install transformers\n",
    "!pip install torch\n",
    "!pip install accelerate\n",
    "!pip install opencv-contrib-python"
   ]
  },
  {
   "cell_type": "code",
   "execution_count": null,
   "metadata": {
    "id": "-WQRZovuur6B"
   },
   "outputs": [],
   "source": [
    "# Importamos las librerias necesarias.\n",
    "\n",
    "from diffusers import StableDiffusionPipeline, StableDiffusionXLPipeline\n",
    "from diffusers import AutoPipelineForText2Image\n",
    "import matplotlib.pyplot as plt\n",
    "import torch\n",
    "\n"
   ]
  },
  {
   "cell_type": "code",
   "execution_count": null,
   "metadata": {
    "id": "tjIDKFiNFRgP"
   },
   "outputs": [],
   "source": [
    "# Probaremos las imagenes generadas por diferentes versiones del modelo\n",
    "\n",
    "model_id1 = \"dreamlike-art/dreamlike-diffusion-1.0\" #probado\n",
    "model_id2 = \"stabilityai/stable-diffusion-xl-base-1.0\" #prbado\n",
    "model_id3 = \"stabilityai/sdxl-turbo\" #probado\n",
    "model_id4 = \"stabilityai/stable-diffusion-2-1\" #probado\n",
    "model_id5 = \"CompVis/stable-diffusion-v1-4\" #probado\n"
   ]
  },
  {
   "cell_type": "code",
   "execution_count": null,
   "metadata": {
    "id": "BKzjcRevvWwp"
   },
   "outputs": [],
   "source": [
    "model_id = model_id5"
   ]
  },
  {
   "cell_type": "code",
   "execution_count": null,
   "metadata": {
    "colab": {
     "base_uri": "https://localhost:8080/",
     "height": 871,
     "referenced_widgets": [
      "5c6bc2ebaeff46d69e51c8a0fd8eabe4",
      "81a9db587d0146a0b3dc5624a2b9a905",
      "7147a23b8849422b93f76f6883dfa8c0",
      "fcfd2490f9ae417fbf3b3f57651c0b22",
      "7c392a47a0dc432393c05fb601467a18",
      "b3eab93bee6a4810a28b14de9a32cf70",
      "9e303296bb064a84be921662ad78c3d8",
      "e74e71dc51cd4602a461bfdedc81e262",
      "46f2086b10504cbba8809133fc1c62d2",
      "5690628bf0ed41bf9c9a3cb0d0459764",
      "4147a41463e5472a85a324928b15ca4e",
      "a00719c319a94f458b0f861994d7cd6e",
      "cd6df50148364889b778d2bb38df8de9",
      "7b566d5911a94f6cbdcb3dc9422fa67f",
      "92658dfdbe4f4d80ba98bbcc0cee2e48",
      "1cd6e4163d3b40dd976e6e2f3ce40e04",
      "86916dd0f892455ca2259b9d1eacd613",
      "792dde24c93049a2acdd4e990227111a",
      "fc9b03d52ed24594a858669bfacfae6d",
      "99613dcc97134819a0b91b29b80948bd",
      "031e933bd53940c191ead4cfe70cef99",
      "65b9e6a80b87413d847ea567ebf0a02b",
      "5afebbf74d6e4e19b00565d3cdf2c11d",
      "150c59b915c84faa80223d8f550722fe",
      "4bf2a9ba06804745bfaac183b856762a",
      "8bc484dc04ae499c8e33787baa37b05d",
      "15b8180c2a4d4f1da8fb15f03ca7accd",
      "6ca4b06cca6a4da0b8890189050b057a",
      "337c255a81f04ca985200f6926bda03d",
      "c28256484e6947599b97278cdff603fe",
      "e86c190783224563a70a7a03cee072a0",
      "2e52c75de1a6479e98a7da2216ff39af",
      "1138abdabcf54d01a96134650ac05d50",
      "63325c1eee4c49868ecd9c57a0955a9c",
      "36a4bb7e35b34c94b5af7ba90776eeb2",
      "0ca4ae97786044bfb40feabc51ae57da",
      "72104e763368494b801f39308822c5c9",
      "6e10401a59a54e2d9ab7b7f04e7ce793",
      "7354033bd91a4abc9d59f48a6e454818",
      "8d91c56c80bb42d48b82d3e217684854",
      "ea278e0162914675831a1759ca3d760b",
      "f62b72df24a94f7b8bf1a744993fb7bb",
      "cfad5db7611d4ab3825b4dc3598381ce",
      "c2e293a0cd26444eb53761f3a73012f4",
      "68207de864f64b12b0e99cd30cc674a6",
      "e590f7cc222d416f899ca478c849e4e0",
      "da0031a6fbc44ed48dc93d3a2554d673",
      "219945e0868f46a1b30b72219a182c19",
      "2ec2735c108243899db628c91be860aa",
      "76086fddfca340ca82637757858e2e47",
      "ac17ba7057984eea8ba4a9664a575362",
      "da6722ac4b0a4c33aa2962bdce122bdd",
      "921c9d7f2e49450bbfaf816c7e80982c",
      "b01c62382f2d42f784dfb4893b3a2530",
      "d30aabb05c1f4183913ecd3b0d2a825f",
      "6c03c8675f774e6ea5b59d609059cfee",
      "522b762c711644f28fc886c3d08ca410",
      "d31e4bda23a842ed97c79958aaabe63d",
      "b19ae19ad8ea4e1da8f12da2b9b8cc98",
      "e1e346dba84549d8b3b9619d47394186",
      "9ea3ef3cc7b2443193916d033b6921a4",
      "f63683e4494c47a48467c617cf041fcf",
      "8fd400fab3634ed4b8a56bef6c50250d",
      "26c6f44c493947fc901882e6097b2d73",
      "c8ad353820344ff4b5ee094d41edd7d6",
      "8d8f68448be343bb9ecbb3c469b22a69",
      "d3accadd096a46fe8d4494be5af9f5fc",
      "57401c94e73a44a0b57a7ca640c6b1f5",
      "0468dc5726204c65ab55c02f1c0b9eb2",
      "e5154120d5314e24bf38ec1af3c1ee64",
      "d44b364bb4d3439ba662f1fdae0fc0cf",
      "cf59d70638e14b24a31553e46dec0662",
      "afa01430c2a045bf8b334c7253207cbc",
      "d9140918a7fb4fada8f32f74920e039b",
      "f019abf12c0c4c8f9c3a67c83486e966",
      "1588b58ef0a24846b2df676b600e4f66",
      "1b36e06a30c64ceeab4756724baea40b",
      "546d6792439f478aa68bd5af14c8493d",
      "3234ff8c10434f3daddc02855ce9af9c",
      "6b55ecd13791478289bc7c1f808177d1",
      "7f8bd7be95e64ec88e542d5dc45ad5a6",
      "43d8c9f329314878aef0b36a9f0989b2",
      "d5cb0adf8fec4ed6a7e65fed2db449b8",
      "1db6a7b1a2174d1aa21f6a49b0c7b945",
      "d950feafd4a9405895bdffdc0533c360",
      "952818a028ab4d38a2e096da1a0446ce",
      "042a3ebe57144182a24002439b4be6bd",
      "c4ce955851b24f23bdd928321d6b72e5",
      "9abc5128f4dd4a12b942b8cbac39da11",
      "82783f2be5a4494ab8f3a5eda8a2a1fe",
      "8af90f9b7b024436b369c6d630273830",
      "cb7651b748664351ab88b14cbadde581",
      "94c2122fc9c146b4a1730fbccc929d3a",
      "d6757e69060d4105809eb42b7e36e215",
      "22946eb849e247ce984012a5de8f37c7",
      "89887650ae98454999b3afbb87fdb6b1",
      "8368435cf2fa48d8be3c703bcc1fdd77",
      "55931299e36b4955b0b9e5fc9bacfe30",
      "639caad4bae24ed396e185cdcead4870",
      "0a7c6d09c6d84cd183dadc28d93c2b8c",
      "205f15e79a324c2d9751936ba02a628f",
      "4007d634e5eb495c8b7396f023dde49c",
      "ca42089ec2b14081a48174edd847eaf0",
      "e07b9ec5e2d4472a852e34ff3da6d007",
      "e614f9a9f6ee42c9a0ddfb6e628c98b4",
      "96959eeeb168471697759b358cf2311c",
      "be0f28998489479aacc509e079cf714f",
      "f1f762b4d59142858fbde6bdf81c6770",
      "3078728c4b0a4c5e87e6a4b49b5c20dc",
      "601f2568314e4ae9b5143f5303496aa3",
      "47ffe333cc6b45528537f97a124a2f4a",
      "29ff9fa5ef8e44a5accc36181e3aa747",
      "ae404d6a9b23403bb31bf4139ef4daf4",
      "ee078bbb3a23455e89938e634411de0a",
      "0d10cf2587fd479291d4139a517038e6",
      "93e2ba9b028d4965839c8a503c12a6b5",
      "248da425cf27477a91ec9ec87264f1e3",
      "e101cc08d4b64240bf79e142238a3883",
      "b30d56cbcb9a405093c138e9b2ff55e3",
      "6b9680433ff2485a8bdd378733558773",
      "d450899be744468b9d02a667f2d78daa",
      "f2c6b3a316354ced8a6cc8220d12d57a",
      "f1b74994317e4345aee5fb72f5d7d4c3",
      "55b8e912f83d423eb21be687f887d91e",
      "d8c6e8c46a2b400ea2414e12004db566",
      "be14061ef4344fb7a7c7bf24ffaafebb",
      "d96389674bf94fc299c680eae06a43eb",
      "87927e25dca4475db9231c328d694238",
      "395751e3722840219b48e28e70610837",
      "c476d1abb3f24bf281c4d8efff95fcf4",
      "52a075986c12473dbeedd7444ac54ad0",
      "d9901060dd63497695c5c747d3671587",
      "81649884e130417382e706c667661d73",
      "0d40ef9b92a64987aba7ef3cab596412",
      "5b4df083fc8545439bbfc4e62c2b7bac",
      "0b169dbd493f4faa96b609a2e24f038f",
      "a394de95e3d64ce68e90c5e071805bfc",
      "c3d0c41a4f004ac19bd98de5330bf3d2",
      "ced571197d1b4143a4218c17f3b7a03f",
      "43c0cf1c280f4a449100b21c177af225",
      "eb9d40cf85a846adb2c39bc466225b58",
      "c92e37e3b6e148d784d54df45e7e2103",
      "c8778ebff6a74d5b87a9e61a698dddfe",
      "93f1e241b7f54920b01d64cba4c84306",
      "a60765dc77684f0aa86743c12de06088",
      "86aaf2be9a1b4309be43a3aba5e45c2c",
      "d960e2c4e76b4f5688305d5878c05184",
      "93fa41b891ed4f80b57b05bde41def7c",
      "7f34c017ea5f4c52ba18d1d273148a23",
      "c118174dd620444f928ffb0ba1fed52b",
      "6a776b54a3424266bb3614d030098108",
      "77d08ff5d683488a8fd65fa97a22c4fb",
      "f68a35042eb64befa7ed38925412420a",
      "361aec868d1a44fc99f037b7f9bfc252",
      "a4148b996dd04e51a33ac3fa4925cf60",
      "741f67822736402e80eefa4a5a91c6ef",
      "3463cf79c74648ebbaae9a535fe98fc2",
      "d96f0761b0074189b0109b1f1d826103",
      "09ac5c8220df42129865c3f5782da61a",
      "a49c96073b32478588f1169032322ef6",
      "1d2ba07f0b7f4f8cbbd0d993e456ba1d",
      "8f2e6cb53a834d0cb8d7289986557686",
      "dfd8ee077892435d9ba4ca398d6b77c3",
      "27506c3388034cc3bd710056bd2176c3",
      "d863b36936d64396abfb5f61c3ee4e57",
      "4cea2f4d9e5a4d9c920dd4f0490cae9e",
      "83be970791ad45079a3628bffc36b7c8",
      "573698ab5b6e40d387a8726513f98919",
      "0158b0d9afd44f809556495635dc4dad",
      "0ace609659b3468287236c5a0e15cbae",
      "e8fdaf9b77004e8dbd2fc62c09a7f63d",
      "a4044f2d92444a03aac2aa21619b2bf1",
      "db25ec6bd71b4f419fce6a75efa0f722",
      "86f65e84715f4d228320d8c8d3977f50",
      "081a1e6db81b4ac8b352191168f7dc4b",
      "0dea12b8c2764705b5be429a1321a856",
      "cac881857fbb474bbc315303eb03ec9d",
      "5fbfdb17741f414f9df7bd545d1caab3",
      "59e878ca365a43d8832f1d8e719f5443",
      "417eb7e073864fb2aafea34c966721a6",
      "c655c43b1b0a4e998f7eb28172f92c04",
      "ea072f5554914727b0f4e7fb11a673ab",
      "fb5799cb778b4f50ab43c95527e8bb1a",
      "334c65ccb00f420481b1261de1ff1eac",
      "642aa608e9f44ec3972b245da34b9f5f",
      "903f931b6ac147679c2651cec8ff26f2",
      "dec071a30e234dc9ab16de28f1de250b",
      "b976b06a481d47599efabb49d68a2d62",
      "37b4438d11e74fb0bf944189c14f6a44",
      "4601110ff7944b98833baa4cb6f30e42",
      "0b871ef0cdc04f1ab3b2c3de1e65964d",
      "c7931cb647a34ca8817f918ad8e33a30",
      "5adab68eb6a948afbfbe1aedde2a21a0",
      "8291554136e244a8a07d2cc5987ab879",
      "e1d8636da9954593bbc0e28fc52e9774",
      "e25f07879d26446d80c493bd25f18237",
      "129c8a2ec3094318ad5f531684ca1f1a",
      "f34ccf81b7364340afa9f9adf5fd876d"
     ]
    },
    "id": "b8jy0MYXvtiB",
    "outputId": "cca34fd2-6021-4986-c733-b7067b233037"
   },
   "outputs": [],
   "source": [
    "pipe = AutoPipelineForText2Image.from_pretrained(\n",
    "    pretrained_model_or_path=model_id,\n",
    "    torch_dtype=torch.float16,\n",
    "    use_safetensors=True\n",
    ") # safetensors es simplemente un formato en el que se ha guardado el modelo\n",
    "\n",
    "# Si tenemos GPU alojamos ahi el modelo para acelerar la generacion:\n",
    "if torch.cuda.is_available():\n",
    "  pipe = pipe.to(\"cuda\")"
   ]
  },
  {
   "cell_type": "code",
   "execution_count": null,
   "metadata": {
    "colab": {
     "base_uri": "https://localhost:8080/"
    },
    "id": "Iw14hgOKwIAA",
    "outputId": "6a7a5315-0fbf-4a6f-d028-ea822342e098"
   },
   "outputs": [],
   "source": [
    "pipe"
   ]
  },
  {
   "cell_type": "markdown",
   "metadata": {
    "id": "stkICJM4MsHH"
   },
   "source": [
    "Le proporcionamos un prompt en inglés generado a partir del título de la noticia."
   ]
  },
  {
   "cell_type": "code",
   "execution_count": null,
   "metadata": {
    "id": "9PzhSJPKwIoY"
   },
   "outputs": [],
   "source": [
    "prompt = \"\"\"\n",
    "A dramatic political scene in the U.S. Senate chamber. Mitch McConnell stands firmly at a podium, refusing a Supreme Court hearing. Merrick Garland, in judge's robes, appears disappointed in the background. American flags, wood desks, and formal lighting complete the setting. Photorealistic style.\n",
    "\"\"\""
   ]
  },
  {
   "cell_type": "code",
   "execution_count": null,
   "metadata": {
    "colab": {
     "base_uri": "https://localhost:8080/",
     "height": 49,
     "referenced_widgets": [
      "9537493ba7854bada4c82aa49c0b710e",
      "ed59a26db8064383ab8b764be88c0dde",
      "675e61f7c38e448cbf6fce9fb98c7a85",
      "b5cb2840375f4869ada81e916c2f3589",
      "97cc74ea0ca044de94cbd4c44827f423",
      "6c3db7abe86d468184ffed6f292d6c50",
      "865d1c3248e743fbb72d9eed6f247a00",
      "8b7c425ce868499e805619d4fa596338",
      "6f23f3a96ba84d2f800058b4e12382f5",
      "b20d9bf27bf245c892b8d1a7cb6164de",
      "adfb7441ab4547bbaecc5edff4b3ff7b"
     ]
    },
    "id": "BL-diGxXw-Sg",
    "outputId": "88d4f787-55a2-4fc3-c74f-d51b764efe35"
   },
   "outputs": [],
   "source": [
    "image = pipe(prompt=prompt, num_inference_steps=50)"
   ]
  },
  {
   "cell_type": "code",
   "execution_count": null,
   "metadata": {
    "id": "yAlDKtqXwxfB"
   },
   "outputs": [],
   "source": [
    "my_image = image.images[0]"
   ]
  },
  {
   "cell_type": "markdown",
   "metadata": {
    "id": "MnwvX3wDPpLq"
   },
   "source": [
    "## Prueba con modelo \"CompVis/stable-diffusion-v1-4\""
   ]
  },
  {
   "cell_type": "code",
   "execution_count": null,
   "metadata": {
    "colab": {
     "base_uri": "https://localhost:8080/",
     "height": 481
    },
    "id": "8COJHr14N37w",
    "outputId": "0bd73fc8-3390-4b97-a284-a4f6401b2c9a"
   },
   "outputs": [],
   "source": [
    "print(\"[PROMPT]: \",prompt) # model_id5 = \"CompVis/stable-diffusion-v1-4\"\n",
    "plt.imshow(my_image);\n",
    "plt.axis('off');"
   ]
  },
  {
   "cell_type": "markdown",
   "metadata": {
    "id": "VqezWY0ANLzF"
   },
   "source": [
    "## Prueba con modelo \"dreamlike-art/dreamlike-diffusion-1.0\""
   ]
  },
  {
   "cell_type": "code",
   "execution_count": null,
   "metadata": {
    "colab": {
     "base_uri": "https://localhost:8080/",
     "height": 481
    },
    "id": "fVMiJ3tXGk4O",
    "outputId": "94dfe515-474c-47ac-c8ad-e12751edc172"
   },
   "outputs": [],
   "source": [
    "print(\"[PROMPT]: \",prompt) # model_id1 = \"dreamlike-art/dreamlike-diffusion-1.0\"\n",
    "plt.imshow(my_image);\n",
    "plt.axis('off');"
   ]
  },
  {
   "cell_type": "markdown",
   "metadata": {
    "id": "-bNfSdPhNSRm"
   },
   "source": [
    "## Prueba con modelo \"stabilityai/stable-diffusion-xl-base-1.0\""
   ]
  },
  {
   "cell_type": "code",
   "execution_count": null,
   "metadata": {
    "colab": {
     "base_uri": "https://localhost:8080/",
     "height": 481
    },
    "id": "QiCaj1cmw0Mg",
    "outputId": "401c1afb-47ba-49c1-c44e-1ac341d30551"
   },
   "outputs": [],
   "source": [
    "print(\"[PROMPT]: \",prompt) ## model_id2 = \"stabilityai/stable-diffusion-xl-base-1.0\"\n",
    "plt.imshow(my_image);\n",
    "plt.axis('off');"
   ]
  },
  {
   "cell_type": "code",
   "execution_count": null,
   "metadata": {
    "id": "PCn3Vf81w0xX"
   },
   "outputs": [],
   "source": []
  }
 ],
 "metadata": {
  "accelerator": "GPU",
  "colab": {
   "gpuType": "T4",
   "provenance": []
  },
  "kernelspec": {
   "display_name": "Python 3",
   "name": "python3"
  },
  "language_info": {
   "name": "python"
  }
 },
 "nbformat": 4,
 "nbformat_minor": 0
}
